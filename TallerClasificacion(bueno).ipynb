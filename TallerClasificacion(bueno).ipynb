{
  "cells": [
    {
      "cell_type": "markdown",
      "metadata": {},
      "source": [
        "# DESARROLLO TALLER 2\n",
        " Profundización Automatización y Control.\n",
        "Desarrollado por:\n",
        "* Jhonathan\n",
        "* Juan José Torres Quiñonez. 220160099.\n",
        "* Jason"
      ]
    },
    {
      "cell_type": "markdown",
      "metadata": {},
      "source": [
        "Uso de datos identificados:"
      ]
    },
    {
      "cell_type": "code",
      "execution_count": 7,
      "metadata": {},
      "outputs": [
        {
          "data": {
            "text/html": [
              "<div>\n",
              "<style scoped>\n",
              "    .dataframe tbody tr th:only-of-type {\n",
              "        vertical-align: middle;\n",
              "    }\n",
              "\n",
              "    .dataframe tbody tr th {\n",
              "        vertical-align: top;\n",
              "    }\n",
              "\n",
              "    .dataframe thead th {\n",
              "        text-align: right;\n",
              "    }\n",
              "</style>\n",
              "<table border=\"1\" class=\"dataframe\">\n",
              "  <thead>\n",
              "    <tr style=\"text-align: right;\">\n",
              "      <th></th>\n",
              "      <th>tamaño</th>\n",
              "      <th>categoria</th>\n",
              "      <th>sensor_orion</th>\n",
              "      <th>sensor_vega</th>\n",
              "      <th>sensor_polaris</th>\n",
              "      <th>sensor_antares</th>\n",
              "      <th>etiqueta_numerica</th>\n",
              "    </tr>\n",
              "  </thead>\n",
              "  <tbody>\n",
              "    <tr>\n",
              "      <th>0</th>\n",
              "      <td>0.02</td>\n",
              "      <td>3</td>\n",
              "      <td>19.77</td>\n",
              "      <td>42.15</td>\n",
              "      <td>35.36</td>\n",
              "      <td>-62.73</td>\n",
              "      <td>1</td>\n",
              "    </tr>\n",
              "    <tr>\n",
              "      <th>1</th>\n",
              "      <td>0.11</td>\n",
              "      <td>3</td>\n",
              "      <td>-23.51</td>\n",
              "      <td>-20.64</td>\n",
              "      <td>69.78</td>\n",
              "      <td>-38.02</td>\n",
              "      <td>1</td>\n",
              "    </tr>\n",
              "    <tr>\n",
              "      <th>2</th>\n",
              "      <td>0.85</td>\n",
              "      <td>1</td>\n",
              "      <td>86.63</td>\n",
              "      <td>75.26</td>\n",
              "      <td>30.82</td>\n",
              "      <td>-71.62</td>\n",
              "      <td>0</td>\n",
              "    </tr>\n",
              "    <tr>\n",
              "      <th>3</th>\n",
              "      <td>0.53</td>\n",
              "      <td>1</td>\n",
              "      <td>-44.91</td>\n",
              "      <td>4.11</td>\n",
              "      <td>71.92</td>\n",
              "      <td>27.17</td>\n",
              "      <td>0</td>\n",
              "    </tr>\n",
              "    <tr>\n",
              "      <th>4</th>\n",
              "      <td>0.14</td>\n",
              "      <td>2</td>\n",
              "      <td>-66.34</td>\n",
              "      <td>-48.04</td>\n",
              "      <td>-2.91</td>\n",
              "      <td>-74.93</td>\n",
              "      <td>0</td>\n",
              "    </tr>\n",
              "  </tbody>\n",
              "</table>\n",
              "</div>"
            ],
            "text/plain": [
              "   tamaño  categoria  sensor_orion  sensor_vega  sensor_polaris  \\\n",
              "0    0.02          3         19.77        42.15           35.36   \n",
              "1    0.11          3        -23.51       -20.64           69.78   \n",
              "2    0.85          1         86.63        75.26           30.82   \n",
              "3    0.53          1        -44.91         4.11           71.92   \n",
              "4    0.14          2        -66.34       -48.04           -2.91   \n",
              "\n",
              "   sensor_antares  etiqueta_numerica  \n",
              "0          -62.73                  1  \n",
              "1          -38.02                  1  \n",
              "2          -71.62                  0  \n",
              "3           27.17                  0  \n",
              "4          -74.93                  0  "
            ]
          },
          "execution_count": 7,
          "metadata": {},
          "output_type": "execute_result"
        }
      ],
      "source": [
        "import sqlite3;\n",
        "import pandas as pd;\n",
        "\n",
        "#CONECTAR BASE DE DATOS\n",
        "\n",
        "conexion = sqlite3.connect('/CodigosGitHub/C-digos-Universidad/datos_sensores.db');\n",
        "\n",
        "query = \"\"\"\n",
        "SELECT\n",
        "datos_basicos.tamaño,\n",
        "datos_basicos.categoria,\n",
        "orion.sensor_orion,\n",
        "vega.sensor_vega,\n",
        "polaris.sensor_polaris,\n",
        "antares.sensor_antares,\n",
        "\n",
        "\n",
        "\n",
        "\n",
        "CASE\n",
        "  WHEN clasificacion.etiqueta = \"Positivo\" THEN 1\n",
        "  ELSE 0\n",
        "END AS etiqueta_numerica\n",
        "\n",
        "FROM datos_basicos\n",
        "INNER JOIN orion ON datos_basicos.id = orion.id\n",
        "INNER JOIN vega ON datos_basicos.id = vega.id\n",
        "INNER JOIN polaris ON datos_basicos.id = polaris.id\n",
        "INNER JOIN antares ON datos_basicos.id = antares.id\n",
        "INNER JOIN clasificacion ON datos_basicos.id = clasificacion.id\n",
        "LIMIT 300000\n",
        "\"\"\"\n",
        "\n",
        "dataset = pd.read_sql_query(query,conexion);\n",
        "dataset.head()"
      ]
    },
    {
      "cell_type": "markdown",
      "metadata": {},
      "source": [
        "Uso de datos no identificados:"
      ]
    },
    {
      "cell_type": "code",
      "execution_count": 8,
      "metadata": {
        "colab": {
          "base_uri": "https://localhost:8080/"
        },
        "id": "ZhnuAM5QolSY",
        "outputId": "0d0af51d-d4e8-4e3f-d68b-5c3a5cf085c3"
      },
      "outputs": [
        {
          "name": "stdout",
          "output_type": "stream",
          "text": [
            "Precisión del Modelo RandomForest: 0.90\n",
            "              precision    recall  f1-score   support\n",
            "\n",
            "           0       0.95      0.85      0.90     30309\n",
            "           1       0.86      0.96      0.91     29691\n",
            "\n",
            "    accuracy                           0.90     60000\n",
            "   macro avg       0.91      0.90      0.90     60000\n",
            "weighted avg       0.91      0.90      0.90     60000\n",
            "\n"
          ]
        }
      ],
      "source": [
        "from sklearn.ensemble import RandomForestClassifier\n",
        "from sklearn.metrics import accuracy_score, classification_report\n",
        "from imblearn.over_sampling import SMOTE\n",
        "from sklearn.preprocessing import StandardScaler\n",
        "from sklearn.model_selection import train_test_split\n",
        "\n",
        "# ... (código anterior para la conexión y carga de datos) ...\n",
        "\n",
        "X = dataset.drop('etiqueta_numerica', axis=1)\n",
        "Y = dataset['etiqueta_numerica']\n",
        "\n",
        "X_Train, X_Test, Y_Train, Y_Test = train_test_split(X, Y, test_size=0.2, random_state=0)\n",
        "\n",
        "# Normalización de datos\n",
        "scaler = StandardScaler()\n",
        "X_Train_scaled = scaler.fit_transform(X_Train)\n",
        "X_Test_scaled = scaler.transform(X_Test)\n",
        "\n",
        "# Manejo de desequilibrio de clases con SMOTE\n",
        "smote = SMOTE(random_state=1)\n",
        "X_Train_resampled, Y_Train_resampled = smote.fit_resample(X_Train_scaled, Y_Train)\n",
        "\n",
        "# Modelo RandomForest\n",
        "modelo_rf = RandomForestClassifier(random_state=1)\n",
        "modelo_rf.fit(X_Train_resampled, Y_Train_resampled)\n",
        "\n",
        "# Predicciones y evaluación del modelo\n",
        "predicciones_rf = modelo_rf.predict(X_Test_scaled)\n",
        "\n",
        "accuracy_rf = accuracy_score(Y_Test, predicciones_rf)\n",
        "print(f\"Precisión del Modelo RandomForest: {accuracy_rf:.2f}\")\n",
        "\n",
        "Reporte_rf = classification_report(Y_Test, predicciones_rf)\n",
        "print(Reporte_rf)\n"
      ]
    }
  ],
  "metadata": {
    "colab": {
      "provenance": []
    },
    "kernelspec": {
      "display_name": "Python 3",
      "name": "python3"
    },
    "language_info": {
      "codemirror_mode": {
        "name": "ipython",
        "version": 3
      },
      "file_extension": ".py",
      "mimetype": "text/x-python",
      "name": "python",
      "nbconvert_exporter": "python",
      "pygments_lexer": "ipython3",
      "version": "3.12.1"
    }
  },
  "nbformat": 4,
  "nbformat_minor": 0
}
